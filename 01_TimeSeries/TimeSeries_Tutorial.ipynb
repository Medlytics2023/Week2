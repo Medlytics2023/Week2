{
  "nbformat": 4,
  "nbformat_minor": 0,
  "metadata": {
    "colab": {
      "name": "TimeSeries_Tutorial.ipynb",
      "provenance": [],
      "collapsed_sections": []
    },
    "kernelspec": {
      "display_name": "Python 3",
      "language": "python",
      "name": "python3"
    }
  },
  "cells": [
    {
      "cell_type": "markdown",
      "metadata": {
        "id": "HJ63rXnsNEcH",
        "colab_type": "text"
      },
      "source": [
        "# Data Series\n",
        "\n",
        "A data series is an ordered collection, often with respect to time.\n",
        "\n",
        "Examples:\n",
        "- Temperatures throughout the year\n",
        "- Height/weight throughout a lifetime\n",
        "- Stock prices across time\n",
        "- Physiological signals (EEG, ECG, pulse rate, ...)\n",
        "- Sound or video\n",
        "\n",
        "\n",
        "<img src = \"https://github.com/BeaverWorksMedlytics2020/Data_Public/blob/master/Images/Week2/life_expectancy_time_series.png?raw=true\">\n",
        "\n",
        "If order is important, then what you have is a time series\n",
        "- Doesn’t actually have to be throughout time!\n",
        "\n"
      ]
    },
    {
      "cell_type": "markdown",
      "metadata": {
        "id": "WIVaEWeINEcJ",
        "colab_type": "text"
      },
      "source": [
        "# Time Series Data Analysis\n",
        "\n",
        "Let's look at Google trends data of keywords 'diet' and 'finance' to see how they vary over time. Could there be more searches for these terms in January when we're all trying to turn over a new leaf? "
      ]
    },
    {
      "cell_type": "code",
      "metadata": {
        "id": "sCYrIFR2NEcK",
        "colab_type": "code",
        "colab": {}
      },
      "source": [
        "import pandas as pd\n",
        "import numpy as np\n",
        "import matplotlib.pyplot as plt\n",
        "import matplotlib\n",
        "\n",
        "%matplotlib inline\n",
        "matplotlib.rcParams.update({'font.size': 22})"
      ],
      "execution_count": null,
      "outputs": []
    },
    {
      "cell_type": "markdown",
      "metadata": {
        "id": "U1bOvNKSPTgI",
        "colab_type": "text"
      },
      "source": [
        "Now let's import the data and see what's in it:"
      ]
    },
    {
      "cell_type": "code",
      "metadata": {
        "id": "h6mAOBpGOj9l",
        "colab_type": "code",
        "colab": {}
      },
      "source": [
        "url = 'https://raw.githubusercontent.com/BeaverWorksMedlytics2020/Data_Public/master/NotebookExampleData/Week2/multiTimeline.csv'\n",
        "df = pd.read_csv(url,  skiprows=1)\n",
        "df.head()\n",
        "df"
      ],
      "execution_count": null,
      "outputs": []
    },
    {
      "cell_type": "markdown",
      "metadata": {
        "id": "IDwZINGCPhJL",
        "colab_type": "text"
      },
      "source": [
        "Use the .info() method to check out your data types, number of rows and more:"
      ]
    },
    {
      "cell_type": "code",
      "metadata": {
        "id": "Ft3B_xKHNEcY",
        "colab_type": "code",
        "colab": {}
      },
      "source": [
        "df.info()"
      ],
      "execution_count": null,
      "outputs": []
    },
    {
      "cell_type": "code",
      "metadata": {
        "id": "BP7uFrlhNEce",
        "colab_type": "code",
        "colab": {}
      },
      "source": [
        "#Turn the 'month' column into a datetime data type and make it the index of the DataFrame\n",
        "df.month = pd.to_datetime(df.month)\n",
        "df.set_index('month', inplace=True)"
      ],
      "execution_count": null,
      "outputs": []
    },
    {
      "cell_type": "code",
      "metadata": {
        "id": "V0RZciJf89sL",
        "colab_type": "code",
        "colab": {}
      },
      "source": [
        "df.head(20)"
      ],
      "execution_count": null,
      "outputs": []
    },
    {
      "cell_type": "markdown",
      "metadata": {
        "id": "iOGXcZjvNEci",
        "colab_type": "text"
      },
      "source": [
        "Now let's use the pandas [built-in visualization method](http://pandas.pydata.org/pandas-docs/stable/generated/pandas.DataFrame.plot.html) to plot your data as 3 line plots on a single figure (one for each column)."
      ]
    },
    {
      "cell_type": "code",
      "metadata": {
        "id": "L529i3kTNEck",
        "colab_type": "code",
        "colab": {}
      },
      "source": [
        "df.plot(figsize=(20,10), linewidth=5, fontsize=20)\n",
        "plt.xlabel('Year', fontsize=20);"
      ],
      "execution_count": null,
      "outputs": []
    },
    {
      "cell_type": "markdown",
      "metadata": {
        "id": "r8D53gT0NEcp",
        "colab_type": "text"
      },
      "source": [
        "Now let's Plot the 'diet' column by itself as a time series."
      ]
    },
    {
      "cell_type": "code",
      "metadata": {
        "id": "Jm_ajBnENEcq",
        "colab_type": "code",
        "colab": {}
      },
      "source": [
        "df[['diet']].plot(figsize=(20,10), linewidth=5, fontsize=20)\n",
        "plt.xlabel('Year', fontsize=20);"
      ],
      "execution_count": null,
      "outputs": []
    },
    {
      "cell_type": "markdown",
      "metadata": {
        "id": "YnAH29hUNEcw",
        "colab_type": "text"
      },
      "source": [
        " It looks like there are trends and seasonal components to these time series!"
      ]
    },
    {
      "cell_type": "markdown",
      "metadata": {
        "id": "eVYWxqHaNEcw",
        "colab_type": "text"
      },
      "source": [
        "## Identifying Trends\n",
        "\n",
        "One popular way of identifying (long-term) trends is to taking a rolling average (also known as a moving average). This means that, for each time point, we take the average of the points on either side of it (the number of points is specified by a window size, which you need to choose)."
      ]
    },
    {
      "cell_type": "markdown",
      "metadata": {
        "id": "RmUpTVjHNEcx",
        "colab_type": "text"
      },
      "source": [
        "Let's plot the rolling average of 'diet' and 'gym' using [built-in pandas methods](https://pandas.pydata.org/pandas-docs/stable/generated/pandas.DataFrame.rolling.html). Which window size do you think we should use? It is crucial for the moving window to be the exact size of the seasonality (which can be determined using Fourier Transforms), but we can approximate here. "
      ]
    },
    {
      "cell_type": "code",
      "metadata": {
        "id": "ofGzTbNNNEcy",
        "colab_type": "code",
        "colab": {}
      },
      "source": [
        "diet = df[['diet']]\n",
        "gym = df[['gym']]\n",
        "window = 12\n",
        "\n",
        "\n",
        "df_rm = pd.concat([diet, diet.rolling(window).mean(), gym, gym.rolling(window).mean()], axis=1)\n",
        "ax = df_rm.plot(figsize=(20,10), linewidth=5, fontsize=20, style= ['b', 'b.', 'g', 'g.'])\n",
        "ax.legend(['diet', 'diet_rolling', 'gym', 'gym_rolling'])\n",
        "plt.xlabel('Year', fontsize=20);"
      ],
      "execution_count": null,
      "outputs": []
    },
    {
      "cell_type": "markdown",
      "metadata": {
        "id": "RYYKG-TcNEc2",
        "colab_type": "text"
      },
      "source": [
        "###  Seasonal Patterns\n",
        "\n",
        "You can remove the trend from a time series to investigate seasonality. To remove the trend, you can subtract the trend you computed above (rolling mean) from the original signal. This, however, will be dependent on how many data points you averaged over. Another way to remove the trend is called __differencing__, where you look at the difference between successive data points (called first-order differencing)."
      ]
    },
    {
      "cell_type": "markdown",
      "metadata": {
        "id": "aCWYQIgiNEc3",
        "colab_type": "text"
      },
      "source": [
        "For example, let's use pandas to compute and plot the [first order difference](https://pandas.pydata.org/pandas-docs/stable/generated/pandas.DataFrame.diff.html) of the 'diet' series"
      ]
    },
    {
      "cell_type": "code",
      "metadata": {
        "id": "NVXxpWFcNEc4",
        "colab_type": "code",
        "colab": {}
      },
      "source": [
        "gym.diff().plot(figsize=(20,10), linewidth=5, fontsize=20)\n",
        "plt.xlabel('Year', fontsize=20);"
      ],
      "execution_count": null,
      "outputs": []
    },
    {
      "cell_type": "markdown",
      "metadata": {
        "id": "3geLg597NEc8",
        "colab_type": "text"
      },
      "source": [
        "See that you have removed much of the trend and you can really see the peaks that occur twice a year.  What does this mean? You can unmute yourselves or type your answer in the discussion chat!"
      ]
    },
    {
      "cell_type": "markdown",
      "metadata": {
        "id": "a4z1EIp9YxLe",
        "colab_type": "text"
      },
      "source": [
        "\n",
        "\n",
        "---\n",
        "\n"
      ]
    },
    {
      "cell_type": "markdown",
      "metadata": {
        "id": "uR7shuUGSGJ8",
        "colab_type": "text"
      },
      "source": [
        "With more signal processing, it is possible to separate slower trends in time-series data from more frequent recurring trends (think \"seasonal\" events). To do this, it is important to be able to separate components of a signal based on how quickly they change.\n",
        "\n",
        "By way of illustration, we can use the statsmodels.tsa python module to separate the above Google trends data into 3 components:\n",
        "\n",
        "1.   Slow-moving trend\n",
        "2.   Higher-frequency repeating structure\n",
        "3.   Residual - aspects of the signal not explained by either 1 or 2\n",
        "\n",
        "This is only possible by considering a signal as a summation of differently changing components.\n",
        "\n",
        "Reference on statsmodels.tsa module: https://devdocs.io/statsmodels/generated/statsmodels.tsa.seasonal.seasonal_decompose . The Additive Model is utilized when variations around the trend do not change with the level of the time series, which is true in this dataset)"
      ]
    },
    {
      "cell_type": "code",
      "metadata": {
        "id": "sZoeRydrX2nP",
        "colab_type": "code",
        "colab": {}
      },
      "source": [
        "import statsmodels.api as sm\n",
        "decomp = sm.tsa.seasonal_decompose(diet, model = \"additive\")\n",
        "fig = decomp.plot()\n",
        "matplotlib.rcParams['figure.figsize'] = [20.0, 20.0]"
      ],
      "execution_count": null,
      "outputs": []
    },
    {
      "cell_type": "markdown",
      "metadata": {
        "id": "T3flI2AfXwYx",
        "colab_type": "text"
      },
      "source": [
        "The formula for the additive model is Y[t] = S[t] + T[t] + e[t], where S, T, and e refer to the Seasonality, Trend, and Error (think White Noise) in the time series, respectively."
      ]
    },
    {
      "cell_type": "markdown",
      "metadata": {
        "id": "1mssZzD7NEc9",
        "colab_type": "text"
      },
      "source": [
        "## Periodicity and Autocorrelation\n",
        "\n",
        "\n",
        "A time series is *periodic* if it repeats itself at equally spaced intervals, say, every 12 months. Another way to think of this is that if the time series has a peak somewhere, then it will have a peak 12 months after that and, if it has a trough somewhere, it will also have a trough 12 months after that. Yet another way of thinking about this is that the time series is correlated with itself shifted by 12 months.\n",
        "\n",
        "Considering the correlation of a time series with such a shifted version of itself is captured by the concept of autocorrelation. We'll get to this in a minute. First, let's remind ourselves about correlation:\n",
        "\n",
        "### Correlation\n",
        "\n",
        "The correlation coefficient of two variables captures how linearly related they are."
      ]
    },
    {
      "cell_type": "markdown",
      "metadata": {
        "id": "t3PLEqwVNEc9",
        "colab_type": "text"
      },
      "source": [
        "Let's compute the [correlation coefficients](https://pandas.pydata.org/pandas-docs/stable/generated/pandas.DataFrame.corr.html) of all of these time series and interpret the results."
      ]
    },
    {
      "cell_type": "code",
      "metadata": {
        "id": "z88Kho9ENEc-",
        "colab_type": "code",
        "colab": {}
      },
      "source": [
        "df.corr()"
      ],
      "execution_count": null,
      "outputs": []
    },
    {
      "cell_type": "markdown",
      "metadata": {
        "id": "ZZwnTqH9NEdB",
        "colab_type": "text"
      },
      "source": [
        "The correlation coefficient of 1.0 corresponds to the fact that the series is perfectly correlated with itself. The rest of the correlation coefficients are pretty weak except for negative correlation between 'gym' and 'finance', which indicates that an increase in 'gym' tends to correspond to decrease in 'finance'.  Does this make sense?"
      ]
    },
    {
      "cell_type": "markdown",
      "metadata": {
        "id": "4sBR17axNEdB",
        "colab_type": "text"
      },
      "source": [
        "Now let's plot the first-order differences of these time series and then compute the correlation coefficients. Removing the trend may reveal correlation in seasonality. Interpret the results."
      ]
    },
    {
      "cell_type": "code",
      "metadata": {
        "id": "xp0vbfrWNEdC",
        "colab_type": "code",
        "colab": {}
      },
      "source": [
        "#Solution\n",
        "df.diff().plot(figsize=(20,10), linewidth=5, fontsize=20)\n",
        "plt.xlabel('Year', fontsize=20)\n",
        "df.diff().corr()"
      ],
      "execution_count": null,
      "outputs": []
    },
    {
      "cell_type": "markdown",
      "metadata": {
        "id": "12IUsbUlNEdG",
        "colab_type": "text"
      },
      "source": [
        "#### Answer\n",
        "\n",
        "The seasonality of 'gym' and 'diet' are strongly correlated. The seasonality of 'finance' and 'diet\" as well as 'finance' and 'gym' are also correlated."
      ]
    },
    {
      "cell_type": "markdown",
      "metadata": {
        "id": "rzZ2kQj0NEdH",
        "colab_type": "text"
      },
      "source": [
        "###  Autocorrelation\n",
        "\n",
        "Let's now plot the autocorrelation of the 'diet' series: on the x-axis you have the lag and on the y-axis you have how correlated the time series is with itself at that lag. For example, if the original time series repeats itself every two days, you would expect to see a spike in the autocorrelation function at 2 days."
      ]
    },
    {
      "cell_type": "code",
      "metadata": {
        "id": "09c0gv2RNEdI",
        "colab_type": "code",
        "colab": {}
      },
      "source": [
        "pd.plotting.autocorrelation_plot(diet);"
      ],
      "execution_count": null,
      "outputs": []
    },
    {
      "cell_type": "markdown",
      "metadata": {
        "id": "QjWqW5UW-GSD",
        "colab_type": "text"
      },
      "source": [
        "\n",
        "\n",
        "---\n",
        "# Representing Signals Data\n",
        "\n",
        "There are multiple ways to represent time series signals data.\n",
        "- Some are good, some are bad, some are convenient\n",
        "\n",
        "We will look at signals data in the:\n",
        "1. Time Domain\n",
        "2. Frequency Domain\n",
        "3. Time/Frequency Domain\n",
        "\n",
        "\n"
      ]
    },
    {
      "cell_type": "markdown",
      "metadata": {
        "id": "ASFDf0GO-IXi",
        "colab_type": "text"
      },
      "source": [
        "# The Time Domain \n",
        "\n",
        "Visualizing a signal in the time domain is often most intuitive at first, and gives some indication of signal strength (e.g., volumne) and duration.  The plot below shows an audio signal in the time domain.  In this section we will learn how to build a complex signal, and then later we'll learn how to decompose it!\n",
        "\n",
        "<img src = \"https://github.com/BeaverWorksMedlytics2020/Data_Public/raw/master/Images/Week2/sound_time_series.png?raw=true\">\n",
        "\n"
      ]
    },
    {
      "cell_type": "markdown",
      "metadata": {
        "id": "JjxpRa6Q-Woe",
        "colab_type": "text"
      },
      "source": [
        "### Sinusoids: the basic building block of time series\n",
        "\n",
        "Sinusoids are special\n",
        "- Simplest waveform – a single frequency\n",
        "\n",
        "A sinusoid is represented by the equation:\n",
        "\n",
        "&emsp;&emsp;$y(t) = a(t) sin (2\\pi ft+\\phi) = a(t) sin (\\omega t+\\phi)$ \n",
        "\n",
        "where:\n",
        "\n",
        "* $a(t) = $ amplitude\n",
        "* $f = $ ordinary frequency, or number of oscillations that occur each second of time (Hz)\n",
        "* $\\omega = 2\\pi f$, the angular frequency (radians per second)\n",
        "* $\\phi =$ phase\n",
        "     \n",
        "Its simplicity makes sinusoids excellent building blocks for many time series.\n",
        "\n",
        "Let's look at an example."
      ]
    },
    {
      "cell_type": "code",
      "metadata": {
        "id": "V_6uBuZp-jYV",
        "colab_type": "code",
        "colab": {}
      },
      "source": [
        "import numpy as np\n",
        "import matplotlib.pyplot as plt\n",
        "import matplotlib\n",
        "import scipy.io.wavfile\n",
        "from IPython.display import Audio\n",
        "\n",
        "%matplotlib inline\n",
        "matplotlib.rcParams.update({'font.size': 16})"
      ],
      "execution_count": null,
      "outputs": []
    },
    {
      "cell_type": "code",
      "metadata": {
        "id": "np93qksr-oCx",
        "colab_type": "code",
        "colab": {}
      },
      "source": [
        "n_sec = 1                         # number of seconds to plot\n",
        "n_points = 50                     # number of points per second\n",
        "\n",
        "a = 1                             # amplitude\n",
        "f = 1                             # one oscillation per second\n",
        "omega = 2*np.pi*f                 # angular frequency\n",
        "phi = 0                           # phase\n",
        "\n",
        "t = np.arange(n_sec*n_points)/n_points    # time axis\n",
        "y = a*np.sin(omega*t + phi)       # sinusoid\n",
        "\n",
        "# PLOT\n",
        "plt.plot(t,y)\n",
        "plt.xlabel('Time (sec)')\n",
        "plt.ylabel('y')\n",
        "plt.grid()\n",
        "plt.ylim([-1,1])"
      ],
      "execution_count": null,
      "outputs": []
    },
    {
      "cell_type": "markdown",
      "metadata": {
        "id": "YQYdXHpq-t_P",
        "colab_type": "text"
      },
      "source": [
        "We can combine multiple sinusoids to create more complex signals."
      ]
    },
    {
      "cell_type": "code",
      "metadata": {
        "id": "zjtKjPq0-thr",
        "colab_type": "code",
        "colab": {}
      },
      "source": [
        "n_sec = 1                         # number of seconds to plot\n",
        "n_points = 100                    # number of points per second\n",
        "t = np.arange(n_sec*n_points)/n_points    # time \n",
        "\n",
        "\n",
        "# Let's combine three sinusoids\n",
        "n_signals = 3\n",
        "y_sum = np.zeros((len(t),))\n",
        "plt.figure(figsize=(10,10))\n",
        "plt.subplot(2,1,1)\n",
        "for s in range(n_signals):\n",
        "    a = s+1                  # amplitude\n",
        "    f = 2*s+1                # oscillations per second\n",
        "    omega = 2*np.pi*f        # angular frequency\n",
        "    phi = np.pi/4*s          # phase\n",
        "    \n",
        "    y= a*np.sin(omega*t + phi)\n",
        "    y_sum += y\n",
        "    \n",
        "    plt.plot(t,y,label='Signal {}'.format(s))\n",
        "    \n",
        "plt.xlabel('Time (sec)')\n",
        "plt.ylabel('y')\n",
        "plt.legend()\n",
        "\n",
        "# Plot the sum of the signals\n",
        "plt.subplot(2,1,2)\n",
        "plt.plot(t,y_sum,'r',label='Sum of Signals')\n",
        "plt.xlabel('Time (sec)')\n",
        "plt.ylabel('y')\n",
        "plt.legend()"
      ],
      "execution_count": null,
      "outputs": []
    },
    {
      "cell_type": "markdown",
      "metadata": {
        "id": "ftJf6HktOMBV",
        "colab_type": "text"
      },
      "source": [
        "# Frequency Domain Representation\n",
        "\n",
        "Another useful representation is the frequency domain\n",
        "- Provides an alternative representation\n",
        "- Is very mathematically convenient!\n",
        "\n",
        "Time series can be decomposed in terms of sinusoidal building blocks called the *spectrum*.\n",
        "\n",
        "\n",
        "<img src = \"https://github.com/BeaverWorksMedlytics2020/Data_Public/blob/master/Images/Week2/sound_frequencies.png?raw=true\">\n",
        "\n",
        "In a subsequent lesson we will learn how to use the [Fourier Transform](https://en.wikipedia.org/wiki/Fourier_transform) to decompose time series data into its frequency spectrum.\n",
        "\n",
        "There is no temporal information in the spectrum, only frequencies\n",
        "- Not that great of a representation for dynamically changing sounds (e.g., speech and music)\n",
        "- Can display some information about the energy and the length of the signal, but not what it sounds like!\n",
        "\n",
        "<img src = \"https://github.com/BeaverWorksMedlytics2020/Data_Public/blob/master/Images/Week2/sound_time_series_2.png?raw=true\">\n",
        "\n",
        "\n"
      ]
    },
    {
      "cell_type": "markdown",
      "metadata": {
        "id": "xZKmbRieOMBW",
        "colab_type": "text"
      },
      "source": [
        "# Time/Frequency Representation\n",
        "\n",
        "Many names/varieties\n",
        "- Spectrogram, sonogram, periodogram, ...\n",
        "\n",
        "A time-ordered sequence of frequency compositions\n",
        "- Can help show how things change in both time and frequency\n",
        "\n",
        "Most useful representation so far!\n",
        "- Reveals information about both the time and frequency content without loss\n",
        "\n",
        "<img src = \"https://github.com/BeaverWorksMedlytics2020/Data_Public/blob/master/Images/Week2/sound_time_plus_frequencies.png?raw=true\">"
      ]
    },
    {
      "cell_type": "markdown",
      "metadata": {
        "id": "rCnwY9-yOMBX",
        "colab_type": "text"
      },
      "source": [
        "###  A Real Example\n",
        "\n",
        "Time domain\n",
        "- We see the events\n",
        "- What do they sound like though?\n",
        "\n",
        "Frequency domain\n",
        "- We see bass and mids\n",
        "- Where are they though?\n",
        "\n",
        "Spectrogram\n",
        "- We \"see\" all the sounds\n",
        "- And have a sense of how they sound!\n",
        "\n",
        "<img src = \"https://github.com/BeaverWorksMedlytics2020/Data_Public/blob/master/Images/Week2/sound_real_example.png?raw=true\">"
      ]
    },
    {
      "cell_type": "markdown",
      "metadata": {
        "id": "Ku05xcI3OMBY",
        "colab_type": "text"
      },
      "source": [
        "We will work more in the frequency and time/frequency domains later, but for now just be aware that they exist (and are useful)!\n",
        "\n",
        "<img src = \"https://github.com/BeaverWorksMedlytics2020/Data_Public/blob/master/Images/Week2/doge.jpg?raw=true\" alt=\"doge\" style=\"width:200px;height:200px;\">\n"
      ]
    }
  ]
}